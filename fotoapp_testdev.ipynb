{
 "cells": [
  {
   "cell_type": "code",
   "execution_count": 4,
   "id": "36ffad53-5c63-4822-95c2-1ff4bd588bd1",
   "metadata": {},
   "outputs": [],
   "source": [
    "import fotoapp"
   ]
  },
  {
   "cell_type": "code",
   "execution_count": 5,
   "id": "1db7b8e5",
   "metadata": {},
   "outputs": [],
   "source": [
    "image_path = \"C:/Users/taiol/Desktop/OwO/Proyecto/Proyecto 2/William.jpg\""
   ]
  },
  {
   "cell_type": "code",
   "execution_count": 6,
   "id": "da898293",
   "metadata": {},
   "outputs": [],
   "source": [
    "resized_image = fotoapp.resize_image(image_path, \"Instagram\")\n",
    "resized_image.show()"
   ]
  },
  {
   "cell_type": "code",
   "execution_count": 7,
   "id": "be1c2df0",
   "metadata": {},
   "outputs": [],
   "source": [
    "resized_image = fotoapp.resize_image(image_path, \"X\")\n",
    "resized_image.show()"
   ]
  },
  {
   "cell_type": "code",
   "execution_count": 8,
   "id": "cab8e06d",
   "metadata": {},
   "outputs": [],
   "source": [
    "resized_image = fotoapp.resize_image(image_path, \"Facebook\")\n",
    "resized_image.show()"
   ]
  },
  {
   "cell_type": "code",
   "execution_count": 11,
   "id": "080f8844",
   "metadata": {},
   "outputs": [],
   "source": [
    "from PIL import Image, ImageEnhance\n",
    "\n",
    "def adjust_contrast(image_path, low_contrast=0.5, high_contrast=2.0):\n",
    "    try:\n",
    "        with Image.open(image_path) as img:\n",
    "            enhancer = ImageEnhance.Contrast(img)\n",
    "            \n",
    "            low_contrast_img = enhancer.enhance(low_contrast)\n",
    "            low_contrast_path = \"Bajo_Contraste.jpg\"  \n",
    "            low_contrast_img.save(low_contrast_path)\n",
    "\n",
    "            high_contrast_img = enhancer.enhance(high_contrast)\n",
    "            high_contrast_path = \"Alto_Contraste.jpg\"  \n",
    "            high_contrast_img.save(high_contrast_path)\n",
    "        \n",
    "        print(f\"Imágenes guardadas como '{low_contrast_path}' y '{high_contrast_path}'.\")\n",
    "        return low_contrast_img, high_contrast_img  \n",
    "    except FileNotFoundError:\n",
    "        print(f\"Error: No se encontró el archivo '{image_path}'. Verifica la ruta.\")\n",
    "        return None, None"
   ]
  },
  {
   "cell_type": "code",
   "execution_count": 12,
   "id": "d08683e4",
   "metadata": {},
   "outputs": [
    {
     "name": "stdout",
     "output_type": "stream",
     "text": [
      "Imágenes guardadas como 'Bajo_Contraste.jpg' y 'Alto_Contraste.jpg'.\n"
     ]
    }
   ],
   "source": [
    "low_contrast_image, high_contrast_image = adjust_contrast(image_path)"
   ]
  },
  {
   "cell_type": "code",
   "execution_count": 13,
   "id": "0687b531",
   "metadata": {},
   "outputs": [],
   "source": [
    "if low_contrast_image and high_contrast_image:\n",
    "    low_contrast_image.show()  \n",
    "    high_contrast_image.show() "
   ]
  },
  {
   "cell_type": "code",
   "execution_count": 18,
   "id": "956e77c4",
   "metadata": {},
   "outputs": [],
   "source": [
    "from PIL import ImageFilter, ImageDraw, ImageFont\n",
    "\n",
    "FILTROS = {\n",
    "    \"ORIGINAL\": None,\n",
    "    \"BLUR\": ImageFilter.BLUR,\n",
    "    \"CONTOUR\": ImageFilter.CONTOUR,\n",
    "    \"DETAIL\": ImageFilter.DETAIL,\n",
    "    \"EDGE ENHANCE\": ImageFilter.EDGE_ENHANCE,\n",
    "    \"EDGE ENHANCE MORE\": ImageFilter.EDGE_ENHANCE_MORE,\n",
    "    \"EMBOSS\": ImageFilter.EMBOSS,\n",
    "    \"FIND EDGES\": ImageFilter.FIND_EDGES,\n",
    "    \"SHARPEN\": ImageFilter.SHARPEN,\n",
    "    \"SMOOTH\": ImageFilter.SMOOTH\n",
    "}\n",
    "\n",
    "def apply_filter(image_path, filter_name):\n",
    "    if filter_name not in FILTROS:\n",
    "        raise ValueError(\"Filtro desconocido. Usa uno de los filtros nombrados en la lista.\")\n",
    "    \n",
    "    with Image.open(image_path) as img:\n",
    "        if FILTROS[filter_name] is not None:\n",
    "            img = img.filter(FILTROS[filter_name])\n",
    "\n",
    "        draw = ImageDraw.Draw(img)\n",
    "        font = ImageFont.load_default()\n",
    "        draw.text((10, 10), filter_name, font=font, fill=\"white\")\n",
    "        \n",
    "        filtered_image_path = f\"{filter_name.lower().replace(' ', '_')}.jpg\"\n",
    "        img.save(filtered_image_path)\n",
    "    \n",
    "    return filtered_image_path, img\n"
   ]
  },
  {
   "cell_type": "code",
   "execution_count": 26,
   "id": "f8097c15",
   "metadata": {},
   "outputs": [],
   "source": [
    "image_path = \"C:/Users/taiol/Desktop/OwO/Proyecto/Proyecto 2/William.jpg\""
   ]
  },
  {
   "cell_type": "code",
   "execution_count": 30,
   "id": "b84102ab",
   "metadata": {},
   "outputs": [
    {
     "name": "stdout",
     "output_type": "stream",
     "text": [
      "Imagen filtrada guardada en: contour.jpg\n"
     ]
    }
   ],
   "source": [
    "filtered_image_path, filtered_image = apply_filter(image_path, \"CONTOUR\")\n",
    "filtered_image.show()\n",
    "print(f\"Imagen filtrada guardada en: {filtered_image_path}\")"
   ]
  },
  {
   "cell_type": "code",
   "execution_count": 31,
   "id": "c09a91f7",
   "metadata": {},
   "outputs": [
    {
     "name": "stdout",
     "output_type": "stream",
     "text": [
      "Imagen filtrada guardada en: blur.jpg\n"
     ]
    }
   ],
   "source": [
    "filtered_image_path, filtered_image = apply_filter(image_path, \"BLUR\")\n",
    "filtered_image.show()\n",
    "print(f\"Imagen filtrada guardada en: {filtered_image_path}\")"
   ]
  },
  {
   "cell_type": "code",
   "execution_count": 32,
   "id": "2d5ef951",
   "metadata": {},
   "outputs": [
    {
     "name": "stdout",
     "output_type": "stream",
     "text": [
      "Imagen filtrada guardada en: detail.jpg\n"
     ]
    }
   ],
   "source": [
    "filtered_image_path, filtered_image = apply_filter(image_path, \"DETAIL\")\n",
    "filtered_image.show()\n",
    "print(f\"Imagen filtrada guardada en: {filtered_image_path}\")"
   ]
  },
  {
   "cell_type": "code",
   "execution_count": 34,
   "id": "0dda8fe3",
   "metadata": {},
   "outputs": [
    {
     "name": "stdout",
     "output_type": "stream",
     "text": [
      "Imagen filtrada guardada en: edge_enhance.jpg\n"
     ]
    }
   ],
   "source": [
    "filtered_image_path, filtered_image = apply_filter(image_path, \"EDGE ENHANCE\")\n",
    "filtered_image.show()\n",
    "print(f\"Imagen filtrada guardada en: {filtered_image_path}\")"
   ]
  },
  {
   "cell_type": "code",
   "execution_count": 35,
   "id": "5c43c0e3",
   "metadata": {},
   "outputs": [
    {
     "name": "stdout",
     "output_type": "stream",
     "text": [
      "Imagen filtrada guardada en: edge_enhance_more.jpg\n"
     ]
    }
   ],
   "source": [
    "filtered_image_path, filtered_image = apply_filter(image_path, \"EDGE ENHANCE MORE\")\n",
    "filtered_image.show()\n",
    "print(f\"Imagen filtrada guardada en: {filtered_image_path}\")"
   ]
  },
  {
   "cell_type": "code",
   "execution_count": 36,
   "id": "12dd2132",
   "metadata": {},
   "outputs": [
    {
     "name": "stdout",
     "output_type": "stream",
     "text": [
      "Imagen filtrada guardada en: emboss.jpg\n"
     ]
    }
   ],
   "source": [
    "filtered_image_path, filtered_image = apply_filter(image_path, \"EMBOSS\")\n",
    "filtered_image.show()\n",
    "print(f\"Imagen filtrada guardada en: {filtered_image_path}\")"
   ]
  },
  {
   "cell_type": "code",
   "execution_count": 37,
   "id": "d92b4878",
   "metadata": {},
   "outputs": [
    {
     "name": "stdout",
     "output_type": "stream",
     "text": [
      "Imagen filtrada guardada en: find_edges.jpg\n"
     ]
    }
   ],
   "source": [
    "filtered_image_path, filtered_image = apply_filter(image_path, \"FIND EDGES\")\n",
    "filtered_image.show()\n",
    "print(f\"Imagen filtrada guardada en: {filtered_image_path}\")"
   ]
  },
  {
   "cell_type": "code",
   "execution_count": 38,
   "id": "361cf7e3",
   "metadata": {},
   "outputs": [
    {
     "name": "stdout",
     "output_type": "stream",
     "text": [
      "Imagen filtrada guardada en: sharpen.jpg\n"
     ]
    }
   ],
   "source": [
    "filtered_image_path, filtered_image = apply_filter(image_path, \"SHARPEN\")\n",
    "filtered_image.show()\n",
    "print(f\"Imagen filtrada guardada en: {filtered_image_path}\")"
   ]
  },
  {
   "cell_type": "code",
   "execution_count": 39,
   "id": "43dc321a",
   "metadata": {},
   "outputs": [
    {
     "name": "stdout",
     "output_type": "stream",
     "text": [
      "Imagen filtrada guardada en: smooth.jpg\n"
     ]
    }
   ],
   "source": [
    "filtered_image_path, filtered_image = apply_filter(image_path, \"SMOOTH\")\n",
    "filtered_image.show()\n",
    "print(f\"Imagen filtrada guardada en: {filtered_image_path}\")"
   ]
  },
  {
   "cell_type": "code",
   "execution_count": 1,
   "id": "2d9cc5ff",
   "metadata": {},
   "outputs": [],
   "source": [
    "import cv2\n",
    "import numpy as np\n",
    "from PIL import Image\n",
    "\n",
    "def create_sketch(image_path, persona=True):\n",
    "    img = cv2.imread(image_path, cv2.IMREAD_GRAYSCALE)\n",
    "    \n",
    "    if persona:\n",
    "        blurred_img = cv2.GaussianBlur(img, (21, 21), 0)\n",
    "        \n",
    "        inverted_img = cv2.bitwise_not(blurred_img)\n",
    "        \n",
    "        sketch_img = cv2.divide(img, 255 - inverted_img, scale=256)\n",
    "        \n",
    "        highlighted_image_path = \"boceto_persona.jpg\"\n",
    "        cv2.imwrite(highlighted_image_path, sketch_img)\n",
    "        \n",
    "        pil_image = Image.fromarray(sketch_img)  \n",
    "        pil_image.show()  \n",
    "        \n",
    "        return highlighted_image_path\n",
    "    else:\n",
    "        return image_path"
   ]
  },
  {
   "cell_type": "code",
   "execution_count": 5,
   "id": "b4cfd2c5",
   "metadata": {},
   "outputs": [
    {
     "name": "stdout",
     "output_type": "stream",
     "text": [
      "Imagen de boceto guardada en: boceto_persona.jpg\n"
     ]
    }
   ],
   "source": [
    "image_path = \"C:/Users/taiol/Desktop/OwO/Proyecto/Proyecto 2/William.jpg\"  \n",
    "result_path = create_sketch(image_path)\n",
    "print(f\"Imagen de boceto guardada en: {result_path}\")"
   ]
  }
 ],
 "metadata": {
  "kernelspec": {
   "display_name": "Python 3 (ipykernel)",
   "language": "python",
   "name": "python3"
  },
  "language_info": {
   "codemirror_mode": {
    "name": "ipython",
    "version": 3
   },
   "file_extension": ".py",
   "mimetype": "text/x-python",
   "name": "python",
   "nbconvert_exporter": "python",
   "pygments_lexer": "ipython3",
   "version": "3.12.6"
  }
 },
 "nbformat": 4,
 "nbformat_minor": 5
}
